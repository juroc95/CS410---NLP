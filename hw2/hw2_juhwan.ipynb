{
  "nbformat": 4,
  "nbformat_minor": 0,
  "metadata": {
    "anaconda-cloud": {},
    "kernelspec": {
      "display_name": "Python 3",
      "language": "python",
      "name": "python3"
    },
    "language_info": {
      "codemirror_mode": {
        "name": "ipython",
        "version": 3
      },
      "file_extension": ".py",
      "mimetype": "text/x-python",
      "name": "python",
      "nbconvert_exporter": "python",
      "pygments_lexer": "ipython3",
      "version": "3.7.9"
    },
    "colab": {
      "name": "word_vectors.ipynb",
      "provenance": [],
      "collapsed_sections": []
    }
  },
  "cells": [
    {
      "cell_type": "markdown",
      "metadata": {
        "id": "4wwniVGOEa4o"
      },
      "source": [
        "# CS410/510 HW2: Exploring Word Vectors (20 points)\n",
        "\n",
        "*   Name: Juhwan Lee\n",
        "*   PSU ID: 905643246\n",
        "\n",
        "Please read the README.txt in the same directory as this notebook for important setup information, especially if you are running this Jupyter notebook on your local machine. \n",
        "\n",
        "\n",
        "There's also an excellent resource on Python and Numpy [tutorial](https://cs231n.github.io/python-numpy-tutorial/) that might be helpful.\n",
        "\n",
        "\n",
        "Please make sure to save the notebook as you go along. Submission Instructions are located at the bottom of the notebook.\n",
        "\n",
        "\n",
        "Acknowledgements: This homework has been modeled after Stanford's CS224n."
      ]
    },
    {
      "cell_type": "code",
      "metadata": {
        "id": "qyfbNELlEa4u"
      },
      "source": [
        "# All Import Statements Defined Here\n",
        "# Note: Do not add to this list.\n",
        "# ----------------\n",
        "\n",
        "import sys\n",
        "assert sys.version_info[0]==3\n",
        "assert sys.version_info[1] >= 5\n",
        "\n",
        "from gensim.models import KeyedVectors\n",
        "from gensim.test.utils import datapath\n",
        "import pprint\n",
        "import matplotlib.pyplot as plt\n",
        "plt.rcParams['figure.figsize'] = [10, 5]\n",
        "import nltk\n",
        "import numpy as np\n",
        "import random\n",
        "import scipy as sp\n",
        "from sklearn.decomposition import TruncatedSVD\n",
        "from sklearn.decomposition import PCA\n",
        "\n",
        "np.random.seed(0)\n",
        "random.seed(0)\n",
        "# ----------------"
      ],
      "execution_count": 9,
      "outputs": []
    },
    {
      "cell_type": "markdown",
      "metadata": {
        "id": "K9MOJUOAEa4y"
      },
      "source": [
        "## Word Vectors\n",
        "\n",
        "Word Vectors are often used as a fundamental component for many downstream NLP tasks, e.g., text classification, question answering, text generation, translation, etc., so it is important to build some intuitions as to their strengths and weaknesses.\n",
        "\n",
        "The terms \"word vectors\" and \"word embeddings\" are often used interchangeably. The term \"embedding\" refers to the fact that we are encoding aspects of a word's meaning in a lower dimensional space. As [Wikipedia](https://en.wikipedia.org/wiki/Word_embedding) states, \"*conceptually it involves a mathematical embedding from a space with one dimension per word to a continuous vector space with a much lower dimension*\".\n",
        "\n",
        "\n",
        "Most word vector models start from the following idea: *You shall know a word by the company it keeps ([Firth, J. R. 1957:11](https://en.wikipedia.org/wiki/John_Rupert_Firth))*\n",
        "\n"
      ]
    },
    {
      "cell_type": "markdown",
      "metadata": {
        "id": "fmGIml7hEa45"
      },
      "source": [
        "## Loading word vectors\n",
        "\n",
        "Here, we shall explore the embeddings produced by word2vec and GloVe. \n",
        "\n",
        "First, we will explore word2vec. Later, you will replace word2vec with GloVe vectors. More information on pretrained models is here: https://radimrehurek.com/gensim/models/word2vec.html\n",
        "\n",
        "Run the following cells to load the word2vec vectors into memory. **Note**: If this is your first time to run these cells, i.e. download the embedding model, it will take a couple minutes to run. If you've run these cells before, rerunning them will load the model without redownloading it, which will take about 1 to 2 minutes."
      ]
    },
    {
      "cell_type": "code",
      "metadata": {
        "id": "DLja5GKrEa46"
      },
      "source": [
        "def load_embedding_model():\n",
        "    \"\"\" Load word2vec vectors\n",
        "        Return:\n",
        "            wv_from_bin: All embeddings, each lengh 300\n",
        "    \"\"\"\n",
        "    import gensim.downloader as api\n",
        "    wv_from_bin = api.load(\"word2vec-google-news-300\") #this downloads the 300-dimensional word2vec vectors trained on Google News corpus, more here: https://radimrehurek.com/gensim/models/word2vec.html\n",
        "    #wv_from_bin = api.load(\"glove-twitter-200\")\n",
        "    print(\"Loaded vocab size %i\" % len(wv_from_bin.vocab.keys()))\n",
        "    return wv_from_bin"
      ],
      "execution_count": 10,
      "outputs": []
    },
    {
      "cell_type": "code",
      "metadata": {
        "id": "lQwGrMFLEa46",
        "colab": {
          "base_uri": "https://localhost:8080/"
        },
        "outputId": "dd716a65-fdbf-4b03-e69c-87daf72bd1a5"
      },
      "source": [
        "# -----------------------------------\n",
        "# Run Cell to Load Word Vectors\n",
        "# Note: This will take a couple of minutes\n",
        "# -----------------------------------\n",
        "wv_from_bin = load_embedding_model()"
      ],
      "execution_count": 11,
      "outputs": [
        {
          "output_type": "stream",
          "name": "stdout",
          "text": [
            "[==================================================] 100.0% 1662.8/1662.8MB downloaded\n",
            "Loaded vocab size 3000000\n"
          ]
        }
      ]
    },
    {
      "cell_type": "markdown",
      "metadata": {
        "id": "3TrnS_EYEa46"
      },
      "source": [
        "#### Note: If you are receiving a \"reset by peer\" error, rerun the cell to restart the download. "
      ]
    },
    {
      "cell_type": "markdown",
      "metadata": {
        "id": "wyBycTNdEa47"
      },
      "source": [
        "### Reducing dimensionality of Word Embeddings\n",
        "Let's visualize the word embeddings. In order to avoid running out of memory, we will work with a sample of 10000 word vectors instead. Run the following cells to:\n",
        "\n",
        "1. Put 10000 word vectors into a matrix M\n",
        "2. Run `reduce_to_k_dim` (see Q1) to reduce the vectors from 300-dimensional to 2-dimensional."
      ]
    },
    {
      "cell_type": "code",
      "metadata": {
        "id": "ggS8BZZkEa47"
      },
      "source": [
        "def get_matrix_of_vectors(wv_from_bin, required_words=['portland', 'pacific', 'forest', 'ocean', 'city', 'food', 'green', 'weird', 'cool', 'oregon']):\n",
        "    \"\"\" Put the word2vec vectors into a matrix M.\n",
        "        Param:\n",
        "            wv_from_bin: KeyedVectors object; the 3000000 word2vec vectors loaded from file\n",
        "        Return:\n",
        "            M: numpy matrix shape (num words, 300) containing the vectors\n",
        "            word2ind: dictionary mapping each word to its row number in M\n",
        "    \"\"\"\n",
        "    import random\n",
        "    words = list(wv_from_bin.vocab.keys())\n",
        "    print(\"Shuffling words ...\")\n",
        "    random.seed(224)\n",
        "    random.shuffle(words)\n",
        "    words = words[:10000]\n",
        "    print(\"Putting %i words into word2ind and matrix M...\" % len(words))\n",
        "    word2ind = {}\n",
        "    M = []\n",
        "    curInd = 0\n",
        "    for w in words:\n",
        "        try:\n",
        "            M.append(wv_from_bin.word_vec(w))\n",
        "            word2ind[w] = curInd\n",
        "            curInd += 1\n",
        "        except KeyError:\n",
        "            continue\n",
        "    for w in required_words:\n",
        "        if w in words:\n",
        "            continue\n",
        "        try:\n",
        "            M.append(wv_from_bin.word_vec(w))\n",
        "            word2ind[w] = curInd\n",
        "            curInd += 1\n",
        "        except KeyError:\n",
        "            continue\n",
        "    M = np.stack(M)\n",
        "    print(\"Done.\")\n",
        "    return M, word2ind"
      ],
      "execution_count": 12,
      "outputs": []
    },
    {
      "cell_type": "markdown",
      "metadata": {
        "id": "nCRQtJrFEa42"
      },
      "source": [
        "### **Question 1**: Implement `reduce_to_k_dim` [code] (1 point)\n",
        "\n",
        "Construct a method that performs dimensionality reduction on the matrix to produce k-dimensional embeddings. Use SVD to take the top k components and produce a new matrix of k-dimensional embeddings. \n",
        "\n",
        "**Note:** All of numpy, scipy, and scikit-learn (`sklearn`) provide *some* implementation of SVD, but only scipy and sklearn provide an implementation of Truncated SVD, and only sklearn provides an efficient randomized algorithm for calculating large-scale Truncated SVD. So please use [sklearn.decomposition.TruncatedSVD](https://scikit-learn.org/stable/modules/generated/sklearn.decomposition.TruncatedSVD.html)."
      ]
    },
    {
      "cell_type": "code",
      "metadata": {
        "id": "1UCgD1tAEa43"
      },
      "source": [
        "def reduce_to_k_dim(M, k=2):\n",
        "    \"\"\" Reduce a co-occurence count matrix of dimensionality (num_corpus_words, num_corpus_words)\n",
        "        to a matrix of dimensionality (num_corpus_words, k) using the following SVD function from Scikit-Learn:\n",
        "            - http://scikit-learn.org/stable/modules/generated/sklearn.decomposition.TruncatedSVD.html\n",
        "    \n",
        "        Params:\n",
        "            M (numpy matrix of shape (number of unique words in the corpus , number of unique words in the corpus)): co-occurence matrix of word counts\n",
        "            k (int): embedding size of each word after dimension reduction\n",
        "        Return:\n",
        "            M_reduced (numpy matrix of shape (number of corpus words, k)): matrix of k-dimensioal word embeddings.\n",
        "                    In terms of the SVD from math class, this actually returns U * S\n",
        "    \"\"\"    \n",
        "    n_iters = 10     # Use this parameter in your call to `TruncatedSVD`\n",
        "    M_reduced = None\n",
        "    print(\"Running Truncated SVD over %i words...\" % (M.shape[0]))\n",
        "    \n",
        "    # ------------------\n",
        "    # Write your implementation here.\n",
        "    svd = TruncatedSVD(n_components = k, n_iter = n_iters, random_state = 123, tol = 0.0)\n",
        "    M_reduced = svd.fit_transform(M)\n",
        "    print(M_reduced.shape)\n",
        "    # ------------------\n",
        "\n",
        "    print(\"Done.\")\n",
        "    return M_reduced"
      ],
      "execution_count": 13,
      "outputs": []
    },
    {
      "cell_type": "code",
      "metadata": {
        "id": "34WXjr0fEa47",
        "colab": {
          "base_uri": "https://localhost:8080/"
        },
        "outputId": "afb89bde-dbea-497b-e72c-427bec539e70"
      },
      "source": [
        "# -----------------------------------------------------------------\n",
        "# Run Cell to Reduce 300-Dimensional Word Embeddings to k Dimensions\n",
        "# Note: This should be quick to run\n",
        "# -----------------------------------------------------------------\n",
        "M, word2ind = get_matrix_of_vectors(wv_from_bin)\n",
        "M_reduced = reduce_to_k_dim(M, k=2)"
      ],
      "execution_count": 14,
      "outputs": [
        {
          "output_type": "stream",
          "name": "stdout",
          "text": [
            "Shuffling words ...\n",
            "Putting 10000 words into word2ind and matrix M...\n",
            "Done.\n",
            "Running Truncated SVD over 10010 words...\n",
            "(10010, 2)\n",
            "Done.\n"
          ]
        }
      ]
    },
    {
      "cell_type": "markdown",
      "metadata": {
        "id": "Oi0NRtphEa4_"
      },
      "source": [
        "**Note: If you are receiving out of memory issues on your local machine, try closing other applications to free more memory on your device. You may want to try restarting your machine so that you can free up extra memory. Then immediately run the jupyter notebook and see if you can load the word vectors properly. Or, try using Colab."
      ]
    },
    {
      "cell_type": "markdown",
      "metadata": {
        "id": "f9cQzntDEa43"
      },
      "source": [
        "### **Question 2.1**: Implement `plot_embeddings` [code] (2 points)\n",
        "\n",
        "Here you will write a function to plot a set of 2D vectors in 2D space. For graphs, we will use Matplotlib (`plt`).\n",
        "\n",
        "For this example, you may find it useful to adapt [this code](http://web.archive.org/web/20190924160434/https://www.pythonmembers.club/2018/05/08/matplotlib-scatter-plot-annotate-set-text-at-label-each-point/). In the future, a good way to make a plot is to look at [the Matplotlib gallery](https://matplotlib.org/gallery/index.html), find a plot that looks somewhat like what you want, and adapt the code they give."
      ]
    },
    {
      "cell_type": "code",
      "metadata": {
        "id": "-xoUkY-mEa44"
      },
      "source": [
        "def plot_embeddings(M_reduced, word2ind, words):\n",
        "    \"\"\" Plot in a scatterplot the embeddings of the words specified in the list \"words\".\n",
        "        NOTE: do not plot all the words listed in M_reduced / word2ind.\n",
        "        Include a label next to each point.\n",
        "        \n",
        "        Params:\n",
        "            M_reduced (numpy matrix of shape (number of unique words in the corpus , 2)): matrix of 2-dimensioal word embeddings\n",
        "            word2ind (dict): dictionary that maps word to indices for matrix M\n",
        "            words (list of strings): words whose embeddings we want to visualize\n",
        "    \"\"\"\n",
        "\n",
        "    # ------------------\n",
        "    # Write your implementation here.\n",
        "    words_index = [word2ind[word] for word in words]\n",
        "    print(words_index)\n",
        "    x_coords = [M_reduced[word_index][0] for word_index in words_index]\n",
        "    y_coords = [M_reduced[word_index][1] for word_index in words_index]\n",
        "    \n",
        "    for i, word in enumerate(words):\n",
        "        x = x_coords[i]\n",
        "        y = y_coords[i]\n",
        "        plt.scatter(x, y, marker = 'x', color = 'red')\n",
        "        plt.text(x + 0.0003, y + 0.0003, word, fontsize = 9)\n",
        "    plt.show()\n",
        "    # ------------------"
      ],
      "execution_count": 15,
      "outputs": []
    },
    {
      "cell_type": "markdown",
      "metadata": {
        "id": "mn5hLXNEEa4_"
      },
      "source": [
        "### **Question 2.2**: word2vec Plot Analysis [written] (3 points)\n",
        "\n",
        "Run the cell below to plot the 2D word2vec embeddings for `['portland', 'pacific', 'forest', 'ocean', 'city', 'food', 'green', 'weird', 'cool', 'oregon']`.\n",
        "\n",
        "What clusters together in 2-dimensional embedding space? What doesn't cluster together that you think should have?"
      ]
    },
    {
      "cell_type": "code",
      "metadata": {
        "scrolled": true,
        "id": "ZGmbcCvPEa4_",
        "colab": {
          "base_uri": "https://localhost:8080/",
          "height": 337
        },
        "outputId": "f6a27aab-63fb-438c-8da8-b80c995846a2"
      },
      "source": [
        "words = ['portland', 'pacific', 'forest', 'ocean', 'city', 'food', 'green', 'weird', 'cool', 'oregon']\n",
        "plot_embeddings(M_reduced, word2ind, words)"
      ],
      "execution_count": 16,
      "outputs": [
        {
          "output_type": "stream",
          "name": "stdout",
          "text": [
            "[10000, 10001, 10002, 10003, 10004, 10005, 10006, 10007, 10008, 10009]\n"
          ]
        },
        {
          "output_type": "display_data",
          "data": {
            "image/png": "[encoded data removed]",
            "text/plain": [
              "<Figure size 720x360 with 1 Axes>"
            ]
          },
          "metadata": {
            "needs_background": "light"
          }
        }
      ]
    },
    {
      "cell_type": "markdown",
      "metadata": {
        "id": "be-gXaPWEa4_"
      },
      "source": [
        "#### <font color=\"red\">Write your answer here.</font>\n",
        "What clusters together in 2-dimensional embedding space?\n",
        "\n",
        "- 'oregon', 'portland'\n",
        "\n",
        "- 'green', 'pacific', 'cool', 'food'\n",
        "\n",
        "- 'forest', 'weird', 'ocean'\n",
        "\n",
        "- 'city'\n",
        "\n",
        "What doesn't cluster together that you think should have?\n",
        "\n",
        "- 'cool', 'weird'\n",
        "\n",
        "- 'city', 'portland', 'oregon'\n",
        "\n",
        "- 'pacific', 'ocean'\n",
        "\n",
        "- 'green', 'forest'\n",
        "\n",
        "- 'food'"
      ]
    },
    {
      "cell_type": "markdown",
      "metadata": {
        "id": "InBKs2UDbjw9"
      },
      "source": [
        "### **Question 2.3**: GloVe Twitter Plot Analysis [written] (3 points)\n",
        "\n",
        "In Section **Loading word vectors**, replace word2vec embeddings with GloVe Twitter 200-dimensional embeddings ''glove-twitter-200', and run all the cells again. \n",
        "\n",
        "And then run the cell below. What differences do you see in the GloVe embeddings as compared to word2vec embeddings?"
      ]
    },
    {
      "cell_type": "code",
      "metadata": {
        "id": "uQLH4wJQbkYu",
        "colab": {
          "base_uri": "https://localhost:8080/",
          "height": 282
        },
        "outputId": "d1edacd5-8022-446d-aabc-71ee2606f675"
      },
      "source": [
        "words = ['portland', 'pacific', 'forest', 'ocean', 'city', 'food', 'green', 'weird', 'cool', 'oregon']\n",
        "plot_embeddings(M_reduced, word2ind, words)"
      ],
      "execution_count": 8,
      "outputs": [
        {
          "output_type": "stream",
          "name": "stdout",
          "text": [
            "[10000, 10001, 10002, 10003, 10004, 10005, 305, 8154, 10006, 10007]\n"
          ]
        },
        {
          "output_type": "display_data",
          "data": {
            "image/png": "[encoded data removed]",
            "text/plain": [
              "<Figure size 432x288 with 1 Axes>"
            ]
          },
          "metadata": {
            "needs_background": "light"
          }
        }
      ]
    },
    {
      "cell_type": "markdown",
      "metadata": {
        "id": "a_aBTDXFcedw"
      },
      "source": [
        "#### <font color=\"red\">Write your answer here.</font>\n",
        "\n",
        "In GloVe embeddings plot, the clusters are more reasonably formed but it is not perfect as well.\n",
        "- 'ocean', 'forest', 'pacific'\n",
        "- 'oregon', 'portland'\n",
        "- 'city', 'food', 'cool', 'green'\n",
        "- 'weird'"
      ]
    },
    {
      "cell_type": "markdown",
      "metadata": {
        "id": "3qy8DRwJcz-7"
      },
      "source": [
        "### **Note: For the following sections, you may choose to continue with GloVe embeddings, or reload the word2vec vectors.**\n",
        "\n",
        "---\n",
        "\n",
        "\n"
      ]
    },
    {
      "cell_type": "markdown",
      "metadata": {
        "id": "LVgqm_qmEa5A"
      },
      "source": [
        "### Cosine Similarity\n",
        "Now that we have word vectors, we need a way to quantify the similarity between individual words, according to these vectors. One such metric is cosine-similarity. We will be using this to find words that are \"close\" and \"far\" from one another.\n",
        "\n",
        "We can think of n-dimensional vectors as points in n-dimensional space. If we take this perspective [L1](http://mathworld.wolfram.com/L1-Norm.html) and [L2](http://mathworld.wolfram.com/L2-Norm.html) Distances help quantify the amount of space \"we must travel\" to get between these two points. Another approach is to examine the angle between two vectors. From trigonometry we know that:\n",
        "\n",
        "<img src=\"inner_product.png\" width=20% style=\"float: center;\"></img>\n",
        "\n",
        "Instead of computing the actual angle, we can compute the similarity in terms of $similarity = cos(\\Theta)$. Formally the [Cosine Similarity](https://en.wikipedia.org/wiki/Cosine_similarity) $s$ between two vectors $p$ and $q$ is defined as:\n",
        "\n",
        "$$s = \\frac{p \\cdot q}{||p|| ||q||}, \\textrm{ where } s \\in [-1, 1] $$ "
      ]
    },
    {
      "cell_type": "markdown",
      "metadata": {
        "id": "K13H1DFHEa5A"
      },
      "source": [
        "### **Question 3.1**: Words with Multiple Meanings  [code + written] (2 points)\n",
        "Polysemes and homonyms are words that have more than one meaning (see this [wiki page](https://en.wikipedia.org/wiki/Polysemy) to learn more about the difference between polysemes and homonyms ). Find a word with *at least two different meanings* such that the top-10 most similar words (according to cosine similarity) contain related words from *both* meanings. For example, \"leaves\" has both \"go_away\" and \"a_structure_of_a_plant\" meaning in the top 10, and \"scoop\" has both \"handed_waffle_cone\" and \"lowdown\". You will probably need to try several polysemous or homonymic words before you find one. \n",
        "\n",
        "Please state the word you discover and the multiple meanings that occur in the top 10. Why do you think many of the polysemous or homonymic words you tried didn't work (i.e. the top-10 most similar words only contain **one** of the meanings of the words)?\n",
        "\n",
        "**Note**: You should use the `wv_from_bin.most_similar(word)` function to get the top 10 similar words. This function ranks all other words in the vocabulary with respect to their cosine similarity to the given word. For further assistance, please check the __[GenSim documentation](https://radimrehurek.com/gensim/models/keyedvectors.html#gensim.models.keyedvectors.FastTextKeyedVectors.most_similar)__."
      ]
    },
    {
      "cell_type": "code",
      "metadata": {
        "id": "ixC2fCG6Ea5A",
        "colab": {
          "base_uri": "https://localhost:8080/"
        },
        "outputId": "0d38150e-c5ce-446c-c24c-e95f942693ee"
      },
      "source": [
        "    # ------------------\n",
        "    # Write your implementation here.\n",
        "    print(wv_from_bin.most_similar(['band'])) #did not work\n",
        "    print(wv_from_bin.most_similar(['close'])) #worked\n",
        "    # ------------------"
      ],
      "execution_count": 17,
      "outputs": [
        {
          "output_type": "stream",
          "name": "stdout",
          "text": [
            "[('bands', 0.7978951930999756), ('punk_band', 0.7165399193763733), ('alt_rock_band', 0.7072829604148865), ('indie_rock_band', 0.698492169380188), ('rockers', 0.6857860684394836), ('guitarist', 0.6767148971557617), ('drummer', 0.6747484803199768), ('Band', 0.6676398515701294), ('singer_guitarist', 0.6616649627685547), ('punk_rock_band', 0.66060870885849)]\n",
            "[('closed', 0.580970823764801), ('closing', 0.547910213470459), ('closest', 0.5217792987823486), ('closer', 0.5146691799163818), ('toclose', 0.5086751580238342), ('Close', 0.4905688762664795), ('open', 0.463651180267334), ('closes', 0.44070184230804443), ('between', 0.4379839301109314), ('nearer', 0.4120941758155823)]\n"
          ]
        }
      ]
    },
    {
      "cell_type": "markdown",
      "metadata": {
        "id": "60AEbKqdEa5A"
      },
      "source": [
        "#### <font color=\"red\">Write your answer here.</font>\n",
        "\n",
        "Word I discovered: close\n",
        "\n",
        "Top-10 most similar words: [('closed', 0.580970823764801), ('closing', 0.547910213470459), ('closest', 0.5217792987823486), ('closer', 0.5146691799163818), ('toclose', 0.5086751580238342), ('Close', 0.4905688762664795), ('open', 0.463651180267334), ('closes', 0.44070184230804443), ('between', 0.4379839301109314), ('nearer', 0.4120941758155823)]\n",
        "\n",
        "The word 'band' can mean a small pop music band centered on singers, but it also exists in the form of a verb to affix a band to or tie up with a band. In my opinion, since the word 'band' itself is often used in the form of a noun rather than a verb in the text corpus, the noun form of 'band' is mainly learned, which is the reason why the word 'band' did not work."
      ]
    },
    {
      "cell_type": "markdown",
      "metadata": {
        "id": "Mz1P4SYGEa5A"
      },
      "source": [
        "### **Question 3.2**: Synonyms & Antonyms  [code + written] (2 points)\n",
        "\n",
        "When considering Cosine Similarity, it's often more convenient to think of Cosine Distance, which is simply 1 - Cosine Similarity.\n",
        "\n",
        "Find three words $(w_1,w_2,w_3)$ where $w_1$ and $w_2$ are synonyms and $w_1$ and $w_3$ are antonyms, but Cosine Distance $(w_1,w_3) <$ Cosine Distance $(w_1,w_2)$. \n",
        "\n",
        "As an example, $w_1$=\"happy\" is closer to $w_3$=\"sad\" than to $w_2$=\"excited\". Please find a different example that satisfies the above. Once you have found your example, please give a possible explanation for why this counter-intuitive result may have happened.\n",
        "\n",
        "You should use the the `wv_from_bin.distance(w1, w2)` function here in order to compute the cosine distance between two words. Please see the __[GenSim documentation](https://radimrehurek.com/gensim/models/keyedvectors.html#gensim.models.keyedvectors.FastTextKeyedVectors.distance)__ for further assistance."
      ]
    },
    {
      "cell_type": "code",
      "metadata": {
        "id": "FFrMO2Y0Ea5B",
        "colab": {
          "base_uri": "https://localhost:8080/"
        },
        "outputId": "f2768eb0-ff49-466e-bdaa-4e7e7770e46f"
      },
      "source": [
        "    # ------------------\n",
        "    # Write your implementation here.\n",
        "    w1 = \"fun\"\n",
        "    w2 = \"amusing\"\n",
        "    w3 = \"boring\"\n",
        "\n",
        "    w1_w2_dist = wv_from_bin.distance(w1, w2)\n",
        "    w1_w3_dist = wv_from_bin.distance(w1, w3)\n",
        "\n",
        "    print(\"Synonyms {}, {} have cosine distance: {}\".format(w1, w2, w1_w2_dist))\n",
        "    print(\"Antonyms {}, {} have cosine distance: {}\".format(w1, w3, w1_w3_dist))\n",
        "    # ------------------"
      ],
      "execution_count": 18,
      "outputs": [
        {
          "output_type": "stream",
          "name": "stdout",
          "text": [
            "Synonyms fun, amusing have cosine distance: 0.5848543047904968\n",
            "Antonyms fun, boring have cosine distance: 0.5349873304367065\n"
          ]
        }
      ]
    },
    {
      "cell_type": "markdown",
      "metadata": {
        "id": "Dt6_Rsd9Ea5B"
      },
      "source": [
        "#### <font color=\"red\">Write your answer here.</font>\n",
        "\n",
        "The above counter-intuitive result is most likely due to the fact that when people write sentences, they typically write 'fun' and 'boring' near each other, whereas 'amusing' may rarely occur in the same neighborhood as 'boring'. As a result, the cosine distance between 'fun' and 'boring' is less than the cosign distance between 'fun' and 'amusing'."
      ]
    },
    {
      "cell_type": "markdown",
      "metadata": {
        "id": "tAC9BXocEa5B"
      },
      "source": [
        "### **Question 3.3**: Analogies with Word Vectors [written] (1 point)\n",
        "Word vectors have been shown to *sometimes* exhibit the ability to solve analogies. \n",
        "\n",
        "As an example, for the analogy \"man : king :: woman : x\" (read: man is to king as woman is to x), what is x?\n",
        "\n",
        "In the cell below, we show you how to use word vectors to find x using the `most_similar` function from the __[GenSim documentation](https://radimrehurek.com/gensim/models/keyedvectors.html#gensim.models.keyedvectors.KeyedVectors.most_similar)__. The function finds words that are most similar to the words in the `positive` list and most dissimilar from the words in the `negative` list (while omitting the input words, which are often the most similar; see [this paper](https://www.aclweb.org/anthology/N18-2039.pdf)). The answer to the analogy will have the highest cosine similarity (largest returned numerical value)."
      ]
    },
    {
      "cell_type": "code",
      "metadata": {
        "id": "uAXr6Ob6Ea5B",
        "colab": {
          "base_uri": "https://localhost:8080/"
        },
        "outputId": "9cf7016c-cd09-4854-bbed-e6910b434084"
      },
      "source": [
        "# Run this cell to answer the analogy -- man : king :: woman : x\n",
        "pprint.pprint(wv_from_bin.most_similar(positive=['woman', 'king'], negative=['man']))"
      ],
      "execution_count": 19,
      "outputs": [
        {
          "output_type": "stream",
          "name": "stdout",
          "text": [
            "[('queen', 0.7118192911148071),\n",
            " ('monarch', 0.6189674139022827),\n",
            " ('princess', 0.5902431011199951),\n",
            " ('crown_prince', 0.5499460697174072),\n",
            " ('prince', 0.5377321243286133),\n",
            " ('kings', 0.5236844420433044),\n",
            " ('Queen_Consort', 0.5235945582389832),\n",
            " ('queens', 0.518113374710083),\n",
            " ('sultan', 0.5098593235015869),\n",
            " ('monarchy', 0.5087411999702454)]\n"
          ]
        }
      ]
    },
    {
      "cell_type": "markdown",
      "metadata": {
        "id": "2AaXChc8Ea5B"
      },
      "source": [
        "Let $m$, $k$, $w$, and $x$ denote the word vectors for `man`, `king`, `woman`, and the answer, respectively. Using **only** vectors $m$, $k$, $w$, and the vector arithmetic operators $+$ and $-$ in your answer, what is the expression in which we are maximizing cosine similarity with $x$?\n",
        "\n",
        "Hint: Recall that word vectors are simply multi-dimensional vectors that represent a word. It might help to draw out a 2D example using arbitrary locations of each vector. Where would `man` and `woman` lie in the coordinate plane relative to `king` and the answer?"
      ]
    },
    {
      "cell_type": "markdown",
      "metadata": {
        "id": "96xSgT0xEa5B"
      },
      "source": [
        "#### <font color=\"red\">Write your answer here.</font>\n",
        "\n",
        "𝑘 - 𝑚 + 𝑤"
      ]
    },
    {
      "cell_type": "markdown",
      "metadata": {
        "id": "XWzOOni_Ea5C"
      },
      "source": [
        "### **Question 3.4**: Finding Analogies [code + written]  (1 point)\n",
        "Find an example of analogy that holds according to these vectors (i.e. the intended word is ranked top). In your solution please state the full analogy in the form x:y :: a:b. If you believe the analogy is complicated, explain why the analogy holds in one or two sentences.\n",
        "\n",
        "**Note**: You may have to try many analogies to find one that works!"
      ]
    },
    {
      "cell_type": "code",
      "metadata": {
        "id": "PsRr1OwNEa5C",
        "colab": {
          "base_uri": "https://localhost:8080/"
        },
        "outputId": "38758e8a-fbab-417e-f3e8-a9d46139f674"
      },
      "source": [
        "    # ------------------\n",
        "    # Write your implementation here.\n",
        "    # white : black :: up : down\n",
        "    pprint.pprint(wv_from_bin.most_similar(positive=['up', 'black'], negative=['white']))\n",
        "    # ------------------"
      ],
      "execution_count": 20,
      "outputs": [
        {
          "output_type": "stream",
          "name": "stdout",
          "text": [
            "[('down', 0.5569672584533691),\n",
            " ('out', 0.4760546088218689),\n",
            " ('off', 0.46158626675605774),\n",
            " ('in.', 0.43648242950439453),\n",
            " ('ups', 0.418761670589447),\n",
            " ('up.The', 0.4140004515647888),\n",
            " ('back', 0.40225571393966675),\n",
            " ('upthe', 0.39737647771835327),\n",
            " ('aside', 0.3968466520309448),\n",
            " ('slack_Drevna', 0.3806280791759491)]\n"
          ]
        }
      ]
    },
    {
      "cell_type": "markdown",
      "metadata": {
        "id": "O3GXxOLVEa5C"
      },
      "source": [
        "#### <font color=\"red\">Write your answer here.</font>\n",
        "\n",
        "white : black :: up : down"
      ]
    },
    {
      "cell_type": "markdown",
      "metadata": {
        "id": "8fXaqGFaEa5C"
      },
      "source": [
        "### **Question 3.5**: Incorrect Analogy [code + written] (1 point)\n",
        "Find an example of analogy that does *not* hold according to these vectors. In your solution, state the intended analogy in the form x:y :: a:b, and state the (incorrect) value of b according to the word vectors."
      ]
    },
    {
      "cell_type": "code",
      "metadata": {
        "id": "wA2zwxtTEa5C",
        "colab": {
          "base_uri": "https://localhost:8080/"
        },
        "outputId": "640b4761-e3d3-4b7b-965d-75f4e479b520"
      },
      "source": [
        "    # ------------------\n",
        "    # Write your implementation here.\n",
        "    # intended analogy -- portland : oregon :: seattle : washington\n",
        "    pprint.pprint(wv_from_bin.most_similar(positive=['seattle', 'oregon'], negative=['portland']))\n",
        "    # ------------------"
      ],
      "execution_count": 21,
      "outputs": [
        {
          "output_type": "stream",
          "name": "stdout",
          "text": [
            "[('wisconsin', 0.5179064273834229),\n",
            " ('south_carolina', 0.5077054500579834),\n",
            " ('arkansas', 0.4946818947792053),\n",
            " ('michigan', 0.4880446791648865),\n",
            " ('pennsylvania', 0.4838385581970215),\n",
            " ('florida', 0.48243725299835205),\n",
            " ('alabama', 0.4802580177783966),\n",
            " ('boston', 0.4778832793235779),\n",
            " ('california', 0.4766072928905487),\n",
            " ('denver', 0.47576406598091125)]\n"
          ]
        }
      ]
    },
    {
      "cell_type": "markdown",
      "metadata": {
        "id": "th9u3Mf2Ea5C"
      },
      "source": [
        "#### <font color=\"red\">Write your answer here.</font>\n",
        "\n",
        "Intended analogy -- portland : oregon :: seattle : washington\n",
        "\n",
        "The incorrect value of b: wisconsin"
      ]
    },
    {
      "cell_type": "markdown",
      "metadata": {
        "id": "xqCf3SHMEa5D"
      },
      "source": [
        "### **Question 3.6**: Guided Analysis of Bias in Word Vectors [written] (1 point)\n",
        "\n",
        "It's important to be cognizant of the biases (gender, race, sexual orientation etc.) implicit in our word embeddings. Bias can be dangerous because it can reinforce stereotypes through applications that employ these models.\n",
        "\n",
        "Run the cell below, to examine (a) which terms are most similar to \"woman\" and \"worker\" and most dissimilar to \"man\", and (b) which terms are most similar to \"man\" and \"worker\" and most dissimilar to \"woman\". Point out the difference between the list of female-associated words and the list of male-associated words, and explain how it is reflecting gender bias."
      ]
    },
    {
      "cell_type": "code",
      "metadata": {
        "id": "67-UyfoEEa5D",
        "colab": {
          "base_uri": "https://localhost:8080/"
        },
        "outputId": "0886dd65-5123-4e98-c5ec-104293082ee9"
      },
      "source": [
        "# Run this cell\n",
        "# Here `positive` indicates the list of words to be similar to and `negative` indicates the list of words to be\n",
        "# most dissimilar from.\n",
        "pprint.pprint(wv_from_bin.most_similar(positive=['woman', 'worker'], negative=['man']))\n",
        "print()\n",
        "pprint.pprint(wv_from_bin.most_similar(positive=['man', 'worker'], negative=['woman']))"
      ],
      "execution_count": 22,
      "outputs": [
        {
          "output_type": "stream",
          "name": "stdout",
          "text": [
            "[('workers', 0.6582455635070801),\n",
            " ('employee', 0.5805293321609497),\n",
            " ('nurse', 0.5249921679496765),\n",
            " ('receptionist', 0.5142490267753601),\n",
            " ('migrant_worker', 0.5001609325408936),\n",
            " ('Worker', 0.4979269802570343),\n",
            " ('housewife', 0.48609834909439087),\n",
            " ('registered_nurse', 0.4846190810203552),\n",
            " ('laborer', 0.48437267541885376),\n",
            " ('coworker', 0.48212406039237976)]\n",
            "\n",
            "[('workers', 0.5590360164642334),\n",
            " ('laborer', 0.54481041431427),\n",
            " ('foreman', 0.5192232131958008),\n",
            " ('Worker', 0.5161596536636353),\n",
            " ('employee', 0.5094279050827026),\n",
            " ('electrician', 0.49481213092803955),\n",
            " ('janitor', 0.48718899488449097),\n",
            " ('bricklayer', 0.4825313091278076),\n",
            " ('carpenter', 0.47498998045921326),\n",
            " ('workman', 0.4642517566680908)]\n"
          ]
        }
      ]
    },
    {
      "cell_type": "markdown",
      "metadata": {
        "id": "_3TsG0JTEa5D"
      },
      "source": [
        "#### <font color=\"red\">Write your answer here.</font>\n",
        "\n",
        "(a) which terms are most similar to \"woman\" and \"worker\" and most dissimilar to \"man\"?\n",
        "\n",
        "nurse, receptionist, migrant_worker, housewife, registered_nurse\n",
        "\n",
        "(b) which terms are most similar to \"man\" and \"worker\" and most dissimilar to \"woman\"?\n",
        "\n",
        "foreman, electrician, janitor, bricklayer, carpenter, workman\n",
        "\n",
        "(c) Point out the difference between the list of female-associated words and the list of male-associated words, and explain how it is reflecting gender bias.\n",
        "\n",
        "Female associated words are occupations that were mainly performed by women in the past and occupations that require subtlety rather than strength, and male associated words are occupations that were mainly performed by men in the past and occupations that require a lot of strength. But now, this trend has disappeared, and there are many male nurses and many female carpenters. If the prediction results continue to be biased, gender and religious conflicts will intensify."
      ]
    },
    {
      "cell_type": "markdown",
      "metadata": {
        "id": "eQxVwuRxEa5D"
      },
      "source": [
        "### **Question 3.7**: Independent Analysis of Bias in Word Vectors [code + written]  (1 point)\n",
        "\n",
        "Use the `most_similar` function to find another case where some bias is exhibited by the vectors. Please briefly explain the example of bias that you discover."
      ]
    },
    {
      "cell_type": "code",
      "metadata": {
        "id": "pHhONBaPEa5D",
        "colab": {
          "base_uri": "https://localhost:8080/"
        },
        "outputId": "a5073b8c-eb31-452a-9fa4-37a6a9988074"
      },
      "source": [
        "    # ------------------\n",
        "    # Write your implementation here.\n",
        "    pprint.pprint(wv_from_bin.most_similar(positive=['woman', 'sport'], negative=['man']))\n",
        "    print()\n",
        "    pprint.pprint(wv_from_bin.most_similar(positive=['man', 'sport'], negative=['woman']))\n",
        "    # ------------------"
      ],
      "execution_count": 23,
      "outputs": [
        {
          "output_type": "stream",
          "name": "stdout",
          "text": [
            "[('sports', 0.5522487163543701),\n",
            " ('Snooki_wannabes', 0.5343652963638306),\n",
            " ('alpine_ski_racing', 0.4878804087638855),\n",
            " ('equestrianism', 0.4868336021900177),\n",
            " ('Modern_pentathlon', 0.4789583683013916),\n",
            " ('sportswoman', 0.4750139117240906),\n",
            " ('marathoning', 0.47279438376426697),\n",
            " ('painkillers_throat_lozenges', 0.47224149107933044),\n",
            " ('Rhythmic_gymnastics', 0.46581119298934937),\n",
            " ('athletics', 0.4654000997543335)]\n",
            "\n",
            "[('sports', 0.5889081358909607),\n",
            " ('sportsman', 0.534942090511322),\n",
            " ('sporting', 0.5343065857887268),\n",
            " ('football', 0.505908727645874),\n",
            " ('racing', 0.4945325255393982),\n",
            " ('Pole_vaulting', 0.4768719971179962),\n",
            " ('racings', 0.47185537219047546),\n",
            " ('boxing', 0.47016268968582153),\n",
            " ('Ultimate_frisbee', 0.4700000286102295),\n",
            " ('snowboarding_skateboarding', 0.4662424921989441)]\n"
          ]
        }
      ]
    },
    {
      "cell_type": "markdown",
      "metadata": {
        "id": "i8uB_wEHEa5E"
      },
      "source": [
        "#### <font color=\"red\">Write your answer here.</font>\n",
        "\n",
        "I discovered that there is a bias between man and woman in sport. Man associated words are football, racing, and boxing and woman associated words are alpine ski, marathoning, and rythmic gymnastics. There are woman football, woman boxing, and woman racing, and there are man alpine ski, man marathon, and man rythmic gymnastics. Gender should not be the benchmark in classifying sports."
      ]
    },
    {
      "cell_type": "markdown",
      "metadata": {
        "id": "RDtHxopvEa5E"
      },
      "source": [
        "### **Question 3.8**: Thinking About Bias [written] (2 points)\n",
        "\n",
        "Give one explanation of how bias gets into the word vectors. What is an experiment that you could do to test for or to measure this source of bias?"
      ]
    },
    {
      "cell_type": "markdown",
      "metadata": {
        "id": "Bpzs1zRuEa5E"
      },
      "source": [
        "#### <font color=\"red\">Write your answer here.</font>\n",
        "\n",
        "Because the dataset we use has bias, it outputs bias because it is trained based on that dataset. The good news is that it is possible to detect these biases. Assume we want to find out if a word embedding for the concept 'c' has a gender bias. We can subtract the cosine distance between 'c' and 'Man' from the cosine distance between 'c' and 'Woman.' A non-zero result indicates bias in one direction or the other, and the magnitude of the result indicates how much bias there is."
      ]
    },
    {
      "cell_type": "markdown",
      "metadata": {
        "id": "tIjgFwuOEa5E"
      },
      "source": [
        "# <font color=\"blue\"> Submission Instructions</font>\n",
        "\n",
        "When you are satified with your results, you can submit this assignment by doing the following:\n",
        "\n",
        "1. Click the Save button at the top of the Jupyter Notebook.\n",
        "\n",
        "2. Add your name and PSU ID # at the top.\n",
        "\n",
        "3. **For Colab**: \n",
        "\n",
        "(i) Select *Edit > Clear All Outputs*.\n",
        "\n",
        "(ii) Click *Runtime > Restart and Run All*.\n",
        "\n",
        "\n",
        "(iii) Click *File > Print* and print to PDF. Name the file hw#_[odin_userid].pdf (for example Homework 1 for John Doe might be hw1_jdoe.pdf)\n",
        "   \n",
        "3. **For Jupyter running on local machine**:\n",
        "\n",
        "(i) Select *Cell -> All Output -> Clear*. This will clear all the outputs from all cells (but will keep the content of all cells).\n",
        "\n",
        "(ii) Select *Cell -> Run All*. This will run all the cells in order, and will take several minutes.\n",
        "\n",
        "(iii) Once you've rerun everything, select *File -> Download as -> PDF via LaTeX*.\n",
        "\n",
        "\n",
        "4. Look at the PDF file and make sure all your solutions are there, displayed correctly.\n",
        "\n",
        "5. Also download your .ipynb.\n",
        "\n",
        "5. Submit both the PDF file and the Jupyter notebook (.ipynb) on D2L under *Activities > Assignment* under the appropriate assignment."
      ]
    }
  ]
}
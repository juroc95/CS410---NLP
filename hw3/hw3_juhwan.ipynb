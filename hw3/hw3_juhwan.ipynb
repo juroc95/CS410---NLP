{
  "nbformat": 4,
  "nbformat_minor": 0,
  "metadata": {
    "colab": {
      "name": "hw3.ipynb",
      "private_outputs": true,
      "provenance": []
    },
    "kernelspec": {
      "name": "python3",
      "display_name": "Python 3"
    },
    "language_info": {
      "name": "python"
    }
  },
  "cells": [
    {
      "cell_type": "markdown",
      "metadata": {
        "id": "XMkVnjmPoE_n"
      },
      "source": [
        "**Juhwan Lee**\n",
        "\n",
        "**CS410: Natural Language Processing**\n",
        "\n",
        "**Assignment 3: Parts-of-Speech Tagging**"
      ]
    },
    {
      "cell_type": "markdown",
      "metadata": {
        "id": "RQfnhZnwu0VH"
      },
      "source": [
        "**1. (1pt) Search the web for 2 “spoof newspaper headlines”, to find such gems as: British Left Waffles on Falkland Islands, and Juvenile Court to Try Shooting Defendant. Manually tag these headlines to see if knowledge of the part-of-speech tags removes the ambiguity.**"
      ]
    },
    {
      "cell_type": "code",
      "metadata": {
        "id": "JsqBw7Rq__lS"
      },
      "source": [
        "headline = 'British/NOUN Left/VERB Waffles/NOUN on/ADV Falkland/NOUN Islands/NOUN'\n",
        "[nltk.tag.str2tuple(t) for t in headline.split()]"
      ],
      "execution_count": null,
      "outputs": []
    },
    {
      "cell_type": "code",
      "metadata": {
        "id": "sBKJNQO-_9qG"
      },
      "source": [
        "headline = 'Juvenile/NOUN Court/NOUN to/PRT Try/VERB Shooting/ADJ Defendant/NOUN'\n",
        "[nltk.tag.str2tuple(t) for t in headline.split()]"
      ],
      "execution_count": null,
      "outputs": []
    },
    {
      "cell_type": "markdown",
      "metadata": {
        "id": "9wyriKy5utcN"
      },
      "source": [
        "\n",
        "**2. (1pt) Tokenize and tag the following sentence: They wind back the clock, while we chase after the wind. What is the output?**"
      ]
    },
    {
      "cell_type": "code",
      "metadata": {
        "id": "nzO3aMSqg_9p"
      },
      "source": [
        "import nltk\n",
        "nltk.download('punkt')\n",
        "nltk.download('averaged_perceptron_tagger')\n",
        "\n",
        "sentence = 'They wind back the clock, while we chase after the wind.'\n",
        "tokens = nltk.word_tokenize(sentence)\n",
        "tagged = nltk.pos_tag(tokens)\n",
        "tagged"
      ],
      "execution_count": null,
      "outputs": []
    },
    {
      "cell_type": "markdown",
      "metadata": {
        "id": "kmcAUYl-w_5S"
      },
      "source": [
        "**3. (1pt) Pick 2 words that can be either a noun or a verb (e.g., contest). Predict which POS tag is likely to be the most frequent in the Brown corpus, and compare with your predictions.**"
      ]
    },
    {
      "cell_type": "markdown",
      "metadata": {
        "id": "NC78DtlV0kR-"
      },
      "source": [
        "fall, dance\n",
        "\n",
        "I think 'fall' is most frequent in the form of verb and 'dance' is most frequent in the form of noun."
      ]
    },
    {
      "cell_type": "code",
      "metadata": {
        "id": "XCTPh_x89ugs"
      },
      "source": [
        "from nltk.corpus import brown\n",
        "nltk.download('brown')\n",
        "nltk.download('universal_tagset')\n",
        "\n",
        "tagged_words = brown.tagged_words(tagset='universal')\n",
        "cfd = nltk.ConditionalFreqDist(tagged_words)"
      ],
      "execution_count": null,
      "outputs": []
    },
    {
      "cell_type": "code",
      "metadata": {
        "id": "vAt14sNnd1zY"
      },
      "source": [
        "cfd['fall'].most_common()"
      ],
      "execution_count": null,
      "outputs": []
    },
    {
      "cell_type": "code",
      "metadata": {
        "id": "Qx9qEf46d4IK"
      },
      "source": [
        "cfd['dance'].most_common()"
      ],
      "execution_count": null,
      "outputs": []
    },
    {
      "cell_type": "markdown",
      "metadata": {
        "id": "62zFSK9XeRKW"
      },
      "source": [
        "'fall' and 'dance' both were most frequent in the form of noun"
      ]
    },
    {
      "cell_type": "markdown",
      "metadata": {
        "id": "N6krMkfh3fs1"
      },
      "source": [
        "**4. (2pt) Use sorted() and set() to get a sorted list of tags used in the Brown corpus, removing duplicates.**"
      ]
    },
    {
      "cell_type": "code",
      "metadata": {
        "id": "IZqZJZVS3wGN"
      },
      "source": [
        "tagged_words = brown.tagged_words()\n",
        "sorted_tagged_words = sorted(tagged_words)\n",
        "unique_tagged_words = set(sorted_tagged_words)\n",
        "vals = [val for key, val in unique_tagged_words]\n",
        "sorted(set(vals))"
      ],
      "execution_count": null,
      "outputs": []
    },
    {
      "cell_type": "markdown",
      "metadata": {
        "id": "jmeFQ_hQnvsP"
      },
      "source": [
        "**5. (4pt) Write programs to process the Brown Corpus and find answers to the following questions: (i) Which nouns are more common in their plural form, rather than their singular form? (Only consider regular plurals, formed with the -s suffix.) (ii) List the top 20 tags in order of decreasing frequency - what do these most frequent tags represent?**"
      ]
    },
    {
      "cell_type": "code",
      "metadata": {
        "id": "EJ8iWOKX2WY4"
      },
      "source": [
        "tagged_words = brown.tagged_words()\n",
        "cfd = nltk.ConditionalFreqDist(tagged_words)\n",
        "result = []\n",
        "for word in set(brown.words()):\n",
        "    if cfd[word+'s']['NNS'] > cfd[word]['NN']:\n",
        "        result.append((word, cfd[word+'s']['NNS'], cfd[word]['NN']))\n",
        "\n",
        "result[0:19]"
      ],
      "execution_count": null,
      "outputs": []
    },
    {
      "cell_type": "code",
      "metadata": {
        "id": "M0E7WDvR-2mG"
      },
      "source": [
        "tag_list = [t for (_, t) in tagged_words]\n",
        "fd = nltk.FreqDist(tag_list)\n",
        "fd.most_common(20)"
      ],
      "execution_count": null,
      "outputs": []
    },
    {
      "cell_type": "markdown",
      "metadata": {
        "id": "erOJOLwk6uAk"
      },
      "source": [
        "**6. (5pt) Generate some statistics for tagged data to answer the following questions: (i) What proportion of word types are always assigned the same part-of-speech tag? (ii) How many word types are ambiguous, in the sense that they appear with at least two tags? (iii) What percentage of word tokens in the Brown Corpus involve these ambiguous word types?**"
      ]
    },
    {
      "cell_type": "code",
      "metadata": {
        "id": "sNbQ2vQ1-OzE"
      },
      "source": [
        "tagged_words = brown.tagged_words(tagset='universal')\n",
        "cfd = nltk.ConditionalFreqDist(tagged_words)"
      ],
      "execution_count": null,
      "outputs": []
    },
    {
      "cell_type": "code",
      "metadata": {
        "id": "_BO68U-f-XAI"
      },
      "source": [
        "proportion = sum(1 for word in cfd if len(cfd[word]) == 1) / len(cfd)\n",
        "proportion"
      ],
      "execution_count": null,
      "outputs": []
    },
    {
      "cell_type": "code",
      "metadata": {
        "id": "x-zOhVei-ZDK"
      },
      "source": [
        "ambiguous = sum(1 for word in cfd if len(cfd[word]) > 1)\n",
        "ambiguous"
      ],
      "execution_count": null,
      "outputs": []
    },
    {
      "cell_type": "code",
      "metadata": {
        "id": "tu-tD0uV-5RE"
      },
      "source": [
        "amb_proportion = ambiguous / len(cfd)\n",
        "amb_proportion"
      ],
      "execution_count": null,
      "outputs": []
    },
    {
      "cell_type": "markdown",
      "metadata": {
        "id": "RhtvuXqLCzAC"
      },
      "source": [
        "**7. (6pt) Write code to search the Brown Corpus for particular words and phrases according to tags, to answer the following questions: (i) Produce an alphabetically sorted list of the distinct words tagged as MD. (ii) Identify words that can be plural nouns or third person singular verbs (e.g. deals, flies). (iii) What is the ratio of masculine to feminine pronouns?**"
      ]
    },
    {
      "cell_type": "code",
      "metadata": {
        "id": "I8qhYri3DKrW"
      },
      "source": [
        "words = brown.words()\n",
        "tagged_words = brown.tagged_words()\n",
        "set_words = set(words)\n",
        "cfd = nltk.ConditionalFreqDist(tagged_words)\n",
        "conditions = cfd.conditions()\n",
        "\n",
        "md_words = [condition for condition in conditions if cfd[condition]['MD'] != 0]\n",
        "md_words.sort()\n",
        "md_words"
      ],
      "execution_count": null,
      "outputs": []
    },
    {
      "cell_type": "code",
      "metadata": {
        "id": "PjWSBAUWNc4s"
      },
      "source": [
        "two_words = [condition for condition in conditions if cfd[condition]['NNS'] and cfd[condition]['VBZ']]\n",
        "two_words.sort()\n",
        "two_words"
      ],
      "execution_count": null,
      "outputs": []
    },
    {
      "cell_type": "code",
      "metadata": {
        "id": "jVm5owUiOEZ1"
      },
      "source": [
        "fd = nltk.FreqDist(words)\n",
        "masc_fem_proportion = (fd['he'] + fd['He']) / (fd['she'] + fd['She'])\n",
        "masc_fem_proportion"
      ],
      "execution_count": null,
      "outputs": []
    },
    {
      "cell_type": "markdown",
      "metadata": {
        "id": "RpRaW46jO3a6"
      },
      "source": [
        "**8. (6pt) How serious is the sparse data problem? Investigate the performance of n-gram taggers as n increases from 1 to 6. Tabulate the accuracy score.**"
      ]
    },
    {
      "cell_type": "code",
      "metadata": {
        "id": "piI-BgHPPqQ2"
      },
      "source": [
        "tagged_sents = brown.tagged_sents()\n",
        "size = int(len(tagged_sents) * 0.9)\n",
        "train_sents = tagged_sents[:size]\n",
        "test_sents = tagged_sents[size:]\n",
        "\n",
        "for i in range(1,7):\n",
        "\tngram_tagger = nltk.NgramTagger(i, train_sents)\n",
        "\tprint(ngram_tagger.evaluate(test_sents))"
      ],
      "execution_count": null,
      "outputs": []
    },
    {
      "cell_type": "markdown",
      "metadata": {
        "id": "353krRTzVD0c"
      },
      "source": [
        "**9. (6pt) There are 264 distinct words in the Brown Corpus having exactly three possible tags. (i) Print a table with the integers 1..10 in one column, and the number of distinct words in the corpus having 1..10 distinct tags in the other column. (ii) For the word with the greatest number of distinct tags, print out sentences from the corpus containing the word, one for each possible tag.**"
      ]
    },
    {
      "cell_type": "code",
      "metadata": {
        "id": "TFMsuT3MYePy"
      },
      "source": [
        "from tabulate import tabulate\n",
        "\n",
        "tagged_words = brown.tagged_words()\n",
        "cfd = nltk.ConditionalFreqDist(tagged_words)\n",
        "\n",
        "num_tags = []\n",
        "for condition in cfd.conditions():\n",
        "    num_tags.append((condition, len(cfd[condition])))\n",
        "\n",
        "tags_by_num = []\n",
        "for i in range(11):\n",
        "    this_num = 0\n",
        "    for (word, num) in num_tags:\n",
        "        if num == i:\n",
        "            this_num += 1\n",
        "    tags_by_num.append((i, this_num))\n",
        "\n",
        "print(tabulate(tags_by_num))"
      ],
      "execution_count": null,
      "outputs": []
    },
    {
      "cell_type": "code",
      "metadata": {
        "id": "V7KECGfvkjua"
      },
      "source": [
        "most_distinct = \"\"\n",
        "num_of_tags = 0\n",
        "\n",
        "for (word, num) in num_tags:\n",
        "    if num > num_of_tags:\n",
        "        num_of_tags = num\n",
        "\n",
        "for (word, num) in num_tags:\n",
        "    if num == num_of_tags:\n",
        "        most_distinct = word\n",
        "\n",
        "most_distinct"
      ],
      "execution_count": null,
      "outputs": []
    },
    {
      "cell_type": "code",
      "metadata": {
        "id": "tSuhzAX7l8Cl"
      },
      "source": [
        "distinct_tags = [tag for tag in cfd['that']]\n",
        "taggend_sents = brown.tagged_sents()\n",
        "\n",
        "for sent in taggend_sents:\n",
        "    for (word, tag) in sent:\n",
        "        for distinct_tag in distinct_tags:\n",
        "            if distinct_tag == tag and (word == 'That' or word == 'that'):\n",
        "                print(sent)\n",
        "                distinct_tags.remove(distinct_tag)\n",
        "                print(\"**********\")\n",
        "                break\n"
      ],
      "execution_count": null,
      "outputs": []
    }
  ]
}